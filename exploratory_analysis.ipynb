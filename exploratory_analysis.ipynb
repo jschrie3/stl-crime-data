{
 "cells": [
  {
   "cell_type": "markdown",
   "metadata": {},
   "source": [
    "# A notebook for exploring the data and merging in other data sets"
   ]
  },
  {
   "cell_type": "code",
   "execution_count": 1,
   "metadata": {},
   "outputs": [],
   "source": [
    "import pandas as pd"
   ]
  },
  {
   "cell_type": "code",
   "execution_count": 2,
   "metadata": {},
   "outputs": [],
   "source": [
    "clean_crime_data_path = r'clean_data/stl_crime_data.txt'\n",
    "neighborhood_demographics = r'additional_data/neighborhood_demographics_2010.csv'"
   ]
  },
  {
   "cell_type": "code",
   "execution_count": 9,
   "metadata": {},
   "outputs": [],
   "source": [
    "crime_df = pd.read_csv(clean_crime_data_path, sep='\\t', index_col=0)\n",
    "neighborhood_df = pd.read_csv(neighborhood_demographics)"
   ]
  },
  {
   "cell_type": "code",
   "execution_count": 35,
   "metadata": {},
   "outputs": [],
   "source": [
    "crime_neighborhoods = list(set(crime_df.NeighborhoodName))"
   ]
  },
  {
   "cell_type": "code",
   "execution_count": 36,
   "metadata": {},
   "outputs": [],
   "source": [
    "demo_neighborhoods = list(set(neighborhood_df.Neighborhood))"
   ]
  },
  {
   "cell_type": "code",
   "execution_count": 37,
   "metadata": {},
   "outputs": [
    {
     "data": {
      "text/plain": [
       "89"
      ]
     },
     "execution_count": 37,
     "metadata": {},
     "output_type": "execute_result"
    }
   ],
   "source": [
    "len(crime_neighborhoods)"
   ]
  },
  {
   "cell_type": "code",
   "execution_count": 38,
   "metadata": {},
   "outputs": [
    {
     "data": {
      "text/plain": [
       "79"
      ]
     },
     "execution_count": 38,
     "metadata": {},
     "output_type": "execute_result"
    }
   ],
   "source": [
    "len(demo_neighborhoods)"
   ]
  },
  {
   "cell_type": "markdown",
   "metadata": {},
   "source": [
    "### Create a standardized neighborhood mapping"
   ]
  },
  {
   "cell_type": "code",
   "execution_count": 56,
   "metadata": {},
   "outputs": [],
   "source": [
    "# create initial mapping from the intersection between the two\n",
    "# neighborhood_mapping = {x:x for x in neighborhood_intersection}\n",
    "neighborhood_mapping = {}\n",
    "\n",
    "# now fix some others to make them standard\n",
    "neighborhood_mapping['Botanical Garden'] = 'Botanical Heights'\n",
    "neighborhood_mapping['Cardonlet'] = 'Carondelet'\n",
    "neighborhood_mapping['Carondelet Park'] = 'Carondelet'\n",
    "neighborhood_mapping['Grand Center'] = 'Covenant Blu - Grand Center'\n",
    "neighborhood_mapping['Fairground Neighborhood'] = 'Fairground'\n",
    "neighborhood_mapping['Fairgrounds Park'] = 'Fairground'\n",
    "neighborhood_mapping['Forest Park'] = 'Forest Park Southeast'\n",
    "neighborhood_mapping['Forest Park SE'] = 'Forest Park Southeast'\n",
    "neighborhood_mapping['Hi-Point'] = 'Hi-Pointe'\n",
    "neighborhood_mapping['Jeff Vanderlou'] = 'JeffVanderlou'\n",
    "neighborhood_mapping['Lasalle'] = 'Lasalle Park'\n",
    "neighborhood_mapping['Mark Twain I-70 Ind.'] = 'Mark Twain/I-70 Industrial'\n",
    "neighborhood_mapping['Near N. Riverfront'] = 'Near North Riverfront'\n",
    "neighborhood_mapping['O’Fallon'] = \"O'Fallon\"\n",
    "neighborhood_mapping[\"O'Fallon Park\"] = \"O'Fallon\"\n",
    "neighborhood_mapping['Peabody-Darst-Webbe'] = 'Peabody Darst Webbe'\n",
    "neighborhood_mapping['Penrose Park'] = 'Penrose'\n",
    "neighborhood_mapping['The Great Ville'] = 'Greater Ville'\n",
    "neighborhood_mapping['Vandenventer'] = 'Vandeventer'\n",
    "neighborhood_mapping['Wells-Goodfellow'] = 'Wells/Goodfellow'\n",
    "neighborhood_mapping['West Ellendale'] = 'Ellendale'\n",
    "\n",
    "neighborhood_mapping['Wydown-Skinker'] = 'Wydown Skinker'\n",
    "neighborhood_mapping['Wydown/Skinker'] = 'Wydown Skinker'\n",
    "\n",
    "# removing parks which aren't in a certain neighborhood\n",
    "neighborhood_mapping['Calvary-Bellefontaine Cemetaries'] = 'Park'\n",
    "neighborhood_mapping['Tower Grove Park'] = 'Park'\n",
    "neighborhood_mapping['Wilmore Park'] = 'Park'"
   ]
  },
  {
   "cell_type": "code",
   "execution_count": 57,
   "metadata": {},
   "outputs": [
    {
     "name": "stdout",
     "output_type": "stream",
     "text": [
      "No swapping needed for Vandeventer\n",
      "No swapping needed for Franz Park\n",
      "No swapping needed for The Ville\n",
      "No swapping needed for Baden\n",
      "No swapping needed for Midtown\n",
      "Swapped West Ellendale for Ellendale\n",
      "No swapping needed for Downtown\n",
      "No swapping needed for Lewis Place\n",
      "No swapping needed for Lafayette Square\n",
      "No swapping needed for Carr Square\n",
      "Swapped Wilmore Park for Park\n",
      "Swapped Tower Grove Park for Park\n",
      "No swapping needed for Walnut Park West\n",
      "No swapping needed for Benton Park West\n",
      "Swapped Lasalle for Lasalle Park\n",
      "No swapping needed for Princeton Heights\n",
      "No swapping needed for Lindenwood Park\n",
      "No swapping needed for Compton Heights\n",
      "Swapped Fairground Neighborhood for Fairground\n",
      "No swapping needed for Bevo Mill\n",
      "No swapping needed for Visitation Park\n",
      "No swapping needed for Clifton Heights\n",
      "No swapping needed for Benton Park\n",
      "Swapped Mark Twain I-70 Ind. for Mark Twain/I-70 Industrial\n",
      "No swapping needed for South Hampton\n",
      "No swapping needed for Tower Grove East\n",
      "No swapping needed for Kings Oak\n",
      "No swapping needed for Riverview\n",
      "No swapping needed for St. Louis Place\n",
      "No swapping needed for Columbus Square\n",
      "Swapped Forest Park for Forest Park Southeast\n",
      "No swapping needed for McKinley Heights\n",
      "No swapping needed for Kingsway East\n",
      "Swapped Jeff Vanderlou for JeffVanderlou\n",
      "Swapped Wells-Goodfellow for Wells/Goodfellow\n",
      "No swapping needed for Gravois Park\n",
      "Swapped Hi-Point for Hi-Pointe\n",
      "No swapping needed for Ellendale\n",
      "Swapped Forest Park SE for Forest Park Southeast\n",
      "No swapping needed for Hamilton Heights\n",
      "No swapping needed for Tower Grove South\n",
      "No swapping needed for Boulevard Heights\n",
      "No swapping needed for Shaw\n",
      "No swapping needed for North Point\n",
      "Swapped Botanical Garden for Botanical Heights\n",
      "No swapping needed for Academy\n",
      "Swapped Fairgrounds Park for Fairground\n",
      "No swapping needed for Tiffany\n",
      "No swapping needed for Marine Villa\n",
      "No swapping needed for College Hill\n",
      "Swapped Wydown-Skinker for Wydown Skinker\n",
      "No swapping needed for The Gate District\n",
      "Swapped O'Fallon Park for O'Fallon\n",
      "No swapping needed for Patch\n",
      "No swapping needed for Penrose\n",
      "No swapping needed for St. Louis Hills\n",
      "No swapping needed for North Riverfront\n",
      "No swapping needed for Holly Hills\n",
      "No swapping needed for Unknown\n",
      "No swapping needed for Fountain Park\n",
      "No swapping needed for Downtown West\n",
      "No swapping needed for DeBaliviere Place\n",
      "No swapping needed for Old North St. Louis\n",
      "Swapped Calvary-Bellefontaine Cemetaries for Park\n",
      "No swapping needed for Dutchtown\n",
      "No swapping needed for Cheltenham\n",
      "Swapped The Great Ville for Greater Ville\n",
      "Swapped Near N. Riverfront for Near North Riverfront\n",
      "Swapped Carondelet Park for Carondelet\n",
      "No swapping needed for Hyde Park\n",
      "Swapped Cardonlet for Carondelet\n",
      "No swapping needed for Southwest Garden\n",
      "No swapping needed for The Hill\n",
      "No swapping needed for Soulard\n",
      "Swapped Penrose Park for Penrose\n",
      "No swapping needed for Covenant Blu - Grand Center\n",
      "No swapping needed for Central West End\n",
      "No swapping needed for McRee Town\n",
      "No swapping needed for Mount Pleasant\n",
      "Swapped Peabody-Darst-Webbe for Peabody Darst Webbe\n",
      "No swapping needed for Clayton-Tamm\n",
      "No swapping needed for O'Fallon\n",
      "No swapping needed for Fox Park\n",
      "No swapping needed for Walnut Park East\n",
      "No swapping needed for Kingsway West\n",
      "No swapping needed for Mark Twain\n",
      "No swapping needed for Skinker-DeBaliviere\n",
      "No swapping needed for Kosciusko\n",
      "No swapping needed for North Hampton\n"
     ]
    }
   ],
   "source": [
    "standard_neighborhoods = []\n",
    "\n",
    "for neighborhood in crime_neighborhoods:\n",
    "    if neighborhood in neighborhood_mapping:\n",
    "        print(f\"Swapped {neighborhood} for {neighborhood_mapping[neighborhood]}\")\n",
    "        standard_neighborhoods.append(neighborhood_mapping[neighborhood])\n",
    "    else:\n",
    "        print(f\"No swapping needed for {neighborhood}\")\n",
    "        standard_neighborhoods.append(neighborhood)"
   ]
  },
  {
   "cell_type": "code",
   "execution_count": 58,
   "metadata": {},
   "outputs": [],
   "source": [
    "standard_neighborhoods.sort()"
   ]
  },
  {
   "cell_type": "markdown",
   "metadata": {},
   "source": [
    "The number of neighborhoods in St. Louis is 79, plus the \"Unknown\" and \"Park\" categories gets us 81, so our mapping is probably alright for most purposes"
   ]
  },
  {
   "cell_type": "code",
   "execution_count": 62,
   "metadata": {},
   "outputs": [
    {
     "data": {
      "text/plain": [
       "81"
      ]
     },
     "execution_count": 62,
     "metadata": {},
     "output_type": "execute_result"
    }
   ],
   "source": [
    "len(set(standard_neighborhoods))"
   ]
  },
  {
   "cell_type": "markdown",
   "metadata": {},
   "source": [
    "Now to swap out the neighborhoods in the dataframes for their standardized counterparts"
   ]
  },
  {
   "cell_type": "code",
   "execution_count": 73,
   "metadata": {},
   "outputs": [],
   "source": [
    "def standardize_neighborhood(neighborhood, neighborhood_mapping=neighborhood_mapping):\n",
    "    try:\n",
    "        return neighborhood_mapping['neighborhood']\n",
    "    except KeyError:\n",
    "        return neighborhood\n",
    "\n",
    "crime_df['StandardNeighborhoodName'] = crime_df.NeighborhoodName.map(standardize_neighborhood)\n",
    "neighborhood_df['StandardNeighborhoodName'] = neighborhood_df.Neighborhood.map(standardize_neighborhood)"
   ]
  },
  {
   "cell_type": "markdown",
   "metadata": {},
   "source": [
    "### Reduce the crime dataset down to the useful bits, summarize crime by Neighborhood and Type of Crime"
   ]
  },
  {
   "cell_type": "code",
   "execution_count": 80,
   "metadata": {},
   "outputs": [
    {
     "data": {
      "text/plain": [
       "Index(['FileName', 'CADAddress', 'CADStreet', 'CodedMonth', 'Complaint',\n",
       "       'Count', 'Crime', 'ShortCrimeCode', 'UCRType', 'UCRCrime',\n",
       "       'DateOccured', 'Description', 'District', 'FlagAdministrative',\n",
       "       'FlagCleanup', 'FlagCrime', 'FlagUnfounded', 'ILEADSAddress',\n",
       "       'ILEADSStreet', 'LocationComment', 'LocationName', 'Neighborhood',\n",
       "       'NeighborhoodName', 'NeighborhoodPrimaryDistrict',\n",
       "       'NeighborhoodAddlDistrict', 'Latitude', 'Longitude',\n",
       "       'StandardNeighborhoodName'],\n",
       "      dtype='object')"
      ]
     },
     "execution_count": 80,
     "metadata": {},
     "output_type": "execute_result"
    }
   ],
   "source": [
    "crime_df.columns"
   ]
  },
  {
   "cell_type": "code",
   "execution_count": 119,
   "metadata": {},
   "outputs": [],
   "source": [
    "columns_to_keep = ['DateOccured', 'Count', 'UCRCrime', 'StandardNeighborhoodName', \n",
    "                   'Latitude', 'Longitude', 'FlagCrime', 'FlagUnfounded']\n",
    "\n",
    "df1 = crime_df[columns_to_keep]\n",
    "df2 = neighborhood_df"
   ]
  },
  {
   "cell_type": "markdown",
   "metadata": {},
   "source": [
    "### Merge the population data into the crime data"
   ]
  },
  {
   "cell_type": "code",
   "execution_count": 120,
   "metadata": {},
   "outputs": [],
   "source": [
    "df = pd.merge(df1, df2, how='inner', on='StandardNeighborhoodName')"
   ]
  },
  {
   "cell_type": "code",
   "execution_count": 122,
   "metadata": {},
   "outputs": [
    {
     "data": {
      "text/html": [
       "<div>\n",
       "<style scoped>\n",
       "    .dataframe tbody tr th:only-of-type {\n",
       "        vertical-align: middle;\n",
       "    }\n",
       "\n",
       "    .dataframe tbody tr th {\n",
       "        vertical-align: top;\n",
       "    }\n",
       "\n",
       "    .dataframe thead th {\n",
       "        text-align: right;\n",
       "    }\n",
       "</style>\n",
       "<table border=\"1\" class=\"dataframe\">\n",
       "  <thead>\n",
       "    <tr style=\"text-align: right;\">\n",
       "      <th></th>\n",
       "      <th>DateOccured</th>\n",
       "      <th>Count</th>\n",
       "      <th>UCRCrime</th>\n",
       "      <th>StandardNeighborhoodName</th>\n",
       "      <th>Latitude</th>\n",
       "      <th>Longitude</th>\n",
       "      <th>FlagCrime</th>\n",
       "      <th>FlagUnfounded</th>\n",
       "      <th>Neighborhood</th>\n",
       "      <th>Population</th>\n",
       "      <th>White</th>\n",
       "      <th>Black</th>\n",
       "      <th>Hispanic/Latino2</th>\n",
       "      <th>AIAN1</th>\n",
       "      <th>Asian</th>\n",
       "      <th>Mixed Race</th>\n",
       "      <th>Corridor</th>\n",
       "    </tr>\n",
       "  </thead>\n",
       "  <tbody>\n",
       "    <tr>\n",
       "      <th>0</th>\n",
       "      <td>01/01/2000 20:58</td>\n",
       "      <td>1</td>\n",
       "      <td>Sex Offenses</td>\n",
       "      <td>Fountain Park</td>\n",
       "      <td>38.658845</td>\n",
       "      <td>-90.260116</td>\n",
       "      <td>Y</td>\n",
       "      <td>N</td>\n",
       "      <td>Fountain Park</td>\n",
       "      <td>1484</td>\n",
       "      <td>1.1</td>\n",
       "      <td>97.4</td>\n",
       "      <td>0.5</td>\n",
       "      <td>0.0</td>\n",
       "      <td>0.0</td>\n",
       "      <td>1.2</td>\n",
       "      <td>North</td>\n",
       "    </tr>\n",
       "    <tr>\n",
       "      <th>1</th>\n",
       "      <td>03/23/2008 17:00</td>\n",
       "      <td>1</td>\n",
       "      <td>Motor vehicle theft</td>\n",
       "      <td>Fountain Park</td>\n",
       "      <td>38.651938</td>\n",
       "      <td>-90.260857</td>\n",
       "      <td>Y</td>\n",
       "      <td>N</td>\n",
       "      <td>Fountain Park</td>\n",
       "      <td>1484</td>\n",
       "      <td>1.1</td>\n",
       "      <td>97.4</td>\n",
       "      <td>0.5</td>\n",
       "      <td>0.0</td>\n",
       "      <td>0.0</td>\n",
       "      <td>1.2</td>\n",
       "      <td>North</td>\n",
       "    </tr>\n",
       "    <tr>\n",
       "      <th>2</th>\n",
       "      <td>04/01/2008 00:01</td>\n",
       "      <td>1</td>\n",
       "      <td>Fraud</td>\n",
       "      <td>Fountain Park</td>\n",
       "      <td>38.659750</td>\n",
       "      <td>-90.260558</td>\n",
       "      <td>Y</td>\n",
       "      <td>N</td>\n",
       "      <td>Fountain Park</td>\n",
       "      <td>1484</td>\n",
       "      <td>1.1</td>\n",
       "      <td>97.4</td>\n",
       "      <td>0.5</td>\n",
       "      <td>0.0</td>\n",
       "      <td>0.0</td>\n",
       "      <td>1.2</td>\n",
       "      <td>North</td>\n",
       "    </tr>\n",
       "    <tr>\n",
       "      <th>3</th>\n",
       "      <td>04/01/2008 17:20</td>\n",
       "      <td>1</td>\n",
       "      <td>Larceny-theft</td>\n",
       "      <td>Fountain Park</td>\n",
       "      <td>38.655478</td>\n",
       "      <td>-90.257060</td>\n",
       "      <td>Y</td>\n",
       "      <td>N</td>\n",
       "      <td>Fountain Park</td>\n",
       "      <td>1484</td>\n",
       "      <td>1.1</td>\n",
       "      <td>97.4</td>\n",
       "      <td>0.5</td>\n",
       "      <td>0.0</td>\n",
       "      <td>0.0</td>\n",
       "      <td>1.2</td>\n",
       "      <td>North</td>\n",
       "    </tr>\n",
       "    <tr>\n",
       "      <th>4</th>\n",
       "      <td>04/01/2008 18:00</td>\n",
       "      <td>1</td>\n",
       "      <td>Larceny-theft</td>\n",
       "      <td>Fountain Park</td>\n",
       "      <td>38.655254</td>\n",
       "      <td>-90.262784</td>\n",
       "      <td>Y</td>\n",
       "      <td>N</td>\n",
       "      <td>Fountain Park</td>\n",
       "      <td>1484</td>\n",
       "      <td>1.1</td>\n",
       "      <td>97.4</td>\n",
       "      <td>0.5</td>\n",
       "      <td>0.0</td>\n",
       "      <td>0.0</td>\n",
       "      <td>1.2</td>\n",
       "      <td>North</td>\n",
       "    </tr>\n",
       "    <tr>\n",
       "      <th>5</th>\n",
       "      <td>04/01/2008 21:06</td>\n",
       "      <td>1</td>\n",
       "      <td>Liquor Laws</td>\n",
       "      <td>Fountain Park</td>\n",
       "      <td>38.655254</td>\n",
       "      <td>-90.262784</td>\n",
       "      <td>Y</td>\n",
       "      <td>N</td>\n",
       "      <td>Fountain Park</td>\n",
       "      <td>1484</td>\n",
       "      <td>1.1</td>\n",
       "      <td>97.4</td>\n",
       "      <td>0.5</td>\n",
       "      <td>0.0</td>\n",
       "      <td>0.0</td>\n",
       "      <td>1.2</td>\n",
       "      <td>North</td>\n",
       "    </tr>\n",
       "    <tr>\n",
       "      <th>6</th>\n",
       "      <td>04/02/2008 17:00</td>\n",
       "      <td>1</td>\n",
       "      <td>Larceny-theft</td>\n",
       "      <td>Fountain Park</td>\n",
       "      <td>38.659898</td>\n",
       "      <td>-90.261975</td>\n",
       "      <td>Y</td>\n",
       "      <td>N</td>\n",
       "      <td>Fountain Park</td>\n",
       "      <td>1484</td>\n",
       "      <td>1.1</td>\n",
       "      <td>97.4</td>\n",
       "      <td>0.5</td>\n",
       "      <td>0.0</td>\n",
       "      <td>0.0</td>\n",
       "      <td>1.2</td>\n",
       "      <td>North</td>\n",
       "    </tr>\n",
       "    <tr>\n",
       "      <th>7</th>\n",
       "      <td>04/03/2008 17:18</td>\n",
       "      <td>1</td>\n",
       "      <td>Other</td>\n",
       "      <td>Fountain Park</td>\n",
       "      <td>38.653877</td>\n",
       "      <td>-90.262053</td>\n",
       "      <td>Y</td>\n",
       "      <td>N</td>\n",
       "      <td>Fountain Park</td>\n",
       "      <td>1484</td>\n",
       "      <td>1.1</td>\n",
       "      <td>97.4</td>\n",
       "      <td>0.5</td>\n",
       "      <td>0.0</td>\n",
       "      <td>0.0</td>\n",
       "      <td>1.2</td>\n",
       "      <td>North</td>\n",
       "    </tr>\n",
       "    <tr>\n",
       "      <th>8</th>\n",
       "      <td>04/04/2008 13:00</td>\n",
       "      <td>1</td>\n",
       "      <td>Motor vehicle theft</td>\n",
       "      <td>Fountain Park</td>\n",
       "      <td>38.659868</td>\n",
       "      <td>-90.256499</td>\n",
       "      <td>N</td>\n",
       "      <td>N</td>\n",
       "      <td>Fountain Park</td>\n",
       "      <td>1484</td>\n",
       "      <td>1.1</td>\n",
       "      <td>97.4</td>\n",
       "      <td>0.5</td>\n",
       "      <td>0.0</td>\n",
       "      <td>0.0</td>\n",
       "      <td>1.2</td>\n",
       "      <td>North</td>\n",
       "    </tr>\n",
       "    <tr>\n",
       "      <th>9</th>\n",
       "      <td>04/04/2008 13:00</td>\n",
       "      <td>-1</td>\n",
       "      <td>Motor vehicle theft</td>\n",
       "      <td>Fountain Park</td>\n",
       "      <td>38.659868</td>\n",
       "      <td>-90.256499</td>\n",
       "      <td>N</td>\n",
       "      <td>N</td>\n",
       "      <td>Fountain Park</td>\n",
       "      <td>1484</td>\n",
       "      <td>1.1</td>\n",
       "      <td>97.4</td>\n",
       "      <td>0.5</td>\n",
       "      <td>0.0</td>\n",
       "      <td>0.0</td>\n",
       "      <td>1.2</td>\n",
       "      <td>North</td>\n",
       "    </tr>\n",
       "  </tbody>\n",
       "</table>\n",
       "</div>"
      ],
      "text/plain": [
       "        DateOccured  Count             UCRCrime StandardNeighborhoodName  \\\n",
       "0  01/01/2000 20:58      1         Sex Offenses            Fountain Park   \n",
       "1  03/23/2008 17:00      1  Motor vehicle theft            Fountain Park   \n",
       "2  04/01/2008 00:01      1                Fraud            Fountain Park   \n",
       "3  04/01/2008 17:20      1        Larceny-theft            Fountain Park   \n",
       "4  04/01/2008 18:00      1        Larceny-theft            Fountain Park   \n",
       "5  04/01/2008 21:06      1          Liquor Laws            Fountain Park   \n",
       "6  04/02/2008 17:00      1        Larceny-theft            Fountain Park   \n",
       "7  04/03/2008 17:18      1                Other            Fountain Park   \n",
       "8  04/04/2008 13:00      1  Motor vehicle theft            Fountain Park   \n",
       "9  04/04/2008 13:00     -1  Motor vehicle theft            Fountain Park   \n",
       "\n",
       "    Latitude  Longitude FlagCrime FlagUnfounded   Neighborhood  Population  \\\n",
       "0  38.658845 -90.260116         Y             N  Fountain Park        1484   \n",
       "1  38.651938 -90.260857         Y             N  Fountain Park        1484   \n",
       "2  38.659750 -90.260558         Y             N  Fountain Park        1484   \n",
       "3  38.655478 -90.257060         Y             N  Fountain Park        1484   \n",
       "4  38.655254 -90.262784         Y             N  Fountain Park        1484   \n",
       "5  38.655254 -90.262784         Y             N  Fountain Park        1484   \n",
       "6  38.659898 -90.261975         Y             N  Fountain Park        1484   \n",
       "7  38.653877 -90.262053         Y             N  Fountain Park        1484   \n",
       "8  38.659868 -90.256499         N             N  Fountain Park        1484   \n",
       "9  38.659868 -90.256499         N             N  Fountain Park        1484   \n",
       "\n",
       "   White  Black  Hispanic/Latino2  AIAN1  Asian  Mixed Race Corridor  \n",
       "0    1.1   97.4               0.5    0.0    0.0         1.2    North  \n",
       "1    1.1   97.4               0.5    0.0    0.0         1.2    North  \n",
       "2    1.1   97.4               0.5    0.0    0.0         1.2    North  \n",
       "3    1.1   97.4               0.5    0.0    0.0         1.2    North  \n",
       "4    1.1   97.4               0.5    0.0    0.0         1.2    North  \n",
       "5    1.1   97.4               0.5    0.0    0.0         1.2    North  \n",
       "6    1.1   97.4               0.5    0.0    0.0         1.2    North  \n",
       "7    1.1   97.4               0.5    0.0    0.0         1.2    North  \n",
       "8    1.1   97.4               0.5    0.0    0.0         1.2    North  \n",
       "9    1.1   97.4               0.5    0.0    0.0         1.2    North  "
      ]
     },
     "execution_count": 122,
     "metadata": {},
     "output_type": "execute_result"
    }
   ],
   "source": [
    "df.head(10)"
   ]
  },
  {
   "cell_type": "markdown",
   "metadata": {},
   "source": [
    "### Clean up the set a bit to get one valid crime per row"
   ]
  },
  {
   "cell_type": "markdown",
   "metadata": {},
   "source": [
    "Get rid of any rows that have a negative count, any where the FlagCrime is Y (only keep new crimes), and when FlagUnfounded is N (making sure the crime isn't unfounded).  I'm thinking of these like my rough set of \"valid\" crimes to be performing ML on"
   ]
  },
  {
   "cell_type": "code",
   "execution_count": 170,
   "metadata": {},
   "outputs": [],
   "source": [
    "one_counts = df.Count == 1\n",
    "y_flag_crime = df.FlagCrime == 'Y'\n",
    "n_flag_unfounded = df.FlagUnfounded == 'N'\n",
    "\n",
    "no_negative_counts = df[one_counts & y_flag_crime & n_flag_unfounded]"
   ]
  },
  {
   "cell_type": "code",
   "execution_count": 171,
   "metadata": {},
   "outputs": [
    {
     "data": {
      "text/html": [
       "<div>\n",
       "<style scoped>\n",
       "    .dataframe tbody tr th:only-of-type {\n",
       "        vertical-align: middle;\n",
       "    }\n",
       "\n",
       "    .dataframe tbody tr th {\n",
       "        vertical-align: top;\n",
       "    }\n",
       "\n",
       "    .dataframe thead th {\n",
       "        text-align: right;\n",
       "    }\n",
       "</style>\n",
       "<table border=\"1\" class=\"dataframe\">\n",
       "  <thead>\n",
       "    <tr style=\"text-align: right;\">\n",
       "      <th></th>\n",
       "      <th>DateOccured</th>\n",
       "      <th>Count</th>\n",
       "      <th>UCRCrime</th>\n",
       "      <th>StandardNeighborhoodName</th>\n",
       "      <th>Latitude</th>\n",
       "      <th>Longitude</th>\n",
       "      <th>FlagCrime</th>\n",
       "      <th>FlagUnfounded</th>\n",
       "      <th>Neighborhood</th>\n",
       "      <th>Population</th>\n",
       "      <th>White</th>\n",
       "      <th>Black</th>\n",
       "      <th>Hispanic/Latino2</th>\n",
       "      <th>AIAN1</th>\n",
       "      <th>Asian</th>\n",
       "      <th>Mixed Race</th>\n",
       "      <th>Corridor</th>\n",
       "    </tr>\n",
       "  </thead>\n",
       "  <tbody>\n",
       "    <tr>\n",
       "      <th>0</th>\n",
       "      <td>01/01/2000 20:58</td>\n",
       "      <td>1</td>\n",
       "      <td>Sex Offenses</td>\n",
       "      <td>Fountain Park</td>\n",
       "      <td>38.658845</td>\n",
       "      <td>-90.260116</td>\n",
       "      <td>Y</td>\n",
       "      <td>N</td>\n",
       "      <td>Fountain Park</td>\n",
       "      <td>1484</td>\n",
       "      <td>1.1</td>\n",
       "      <td>97.4</td>\n",
       "      <td>0.5</td>\n",
       "      <td>0.0</td>\n",
       "      <td>0.0</td>\n",
       "      <td>1.2</td>\n",
       "      <td>North</td>\n",
       "    </tr>\n",
       "    <tr>\n",
       "      <th>1</th>\n",
       "      <td>03/23/2008 17:00</td>\n",
       "      <td>1</td>\n",
       "      <td>Motor vehicle theft</td>\n",
       "      <td>Fountain Park</td>\n",
       "      <td>38.651938</td>\n",
       "      <td>-90.260857</td>\n",
       "      <td>Y</td>\n",
       "      <td>N</td>\n",
       "      <td>Fountain Park</td>\n",
       "      <td>1484</td>\n",
       "      <td>1.1</td>\n",
       "      <td>97.4</td>\n",
       "      <td>0.5</td>\n",
       "      <td>0.0</td>\n",
       "      <td>0.0</td>\n",
       "      <td>1.2</td>\n",
       "      <td>North</td>\n",
       "    </tr>\n",
       "    <tr>\n",
       "      <th>2</th>\n",
       "      <td>04/01/2008 00:01</td>\n",
       "      <td>1</td>\n",
       "      <td>Fraud</td>\n",
       "      <td>Fountain Park</td>\n",
       "      <td>38.659750</td>\n",
       "      <td>-90.260558</td>\n",
       "      <td>Y</td>\n",
       "      <td>N</td>\n",
       "      <td>Fountain Park</td>\n",
       "      <td>1484</td>\n",
       "      <td>1.1</td>\n",
       "      <td>97.4</td>\n",
       "      <td>0.5</td>\n",
       "      <td>0.0</td>\n",
       "      <td>0.0</td>\n",
       "      <td>1.2</td>\n",
       "      <td>North</td>\n",
       "    </tr>\n",
       "    <tr>\n",
       "      <th>3</th>\n",
       "      <td>04/01/2008 17:20</td>\n",
       "      <td>1</td>\n",
       "      <td>Larceny-theft</td>\n",
       "      <td>Fountain Park</td>\n",
       "      <td>38.655478</td>\n",
       "      <td>-90.257060</td>\n",
       "      <td>Y</td>\n",
       "      <td>N</td>\n",
       "      <td>Fountain Park</td>\n",
       "      <td>1484</td>\n",
       "      <td>1.1</td>\n",
       "      <td>97.4</td>\n",
       "      <td>0.5</td>\n",
       "      <td>0.0</td>\n",
       "      <td>0.0</td>\n",
       "      <td>1.2</td>\n",
       "      <td>North</td>\n",
       "    </tr>\n",
       "    <tr>\n",
       "      <th>4</th>\n",
       "      <td>04/01/2008 18:00</td>\n",
       "      <td>1</td>\n",
       "      <td>Larceny-theft</td>\n",
       "      <td>Fountain Park</td>\n",
       "      <td>38.655254</td>\n",
       "      <td>-90.262784</td>\n",
       "      <td>Y</td>\n",
       "      <td>N</td>\n",
       "      <td>Fountain Park</td>\n",
       "      <td>1484</td>\n",
       "      <td>1.1</td>\n",
       "      <td>97.4</td>\n",
       "      <td>0.5</td>\n",
       "      <td>0.0</td>\n",
       "      <td>0.0</td>\n",
       "      <td>1.2</td>\n",
       "      <td>North</td>\n",
       "    </tr>\n",
       "    <tr>\n",
       "      <th>5</th>\n",
       "      <td>04/01/2008 21:06</td>\n",
       "      <td>1</td>\n",
       "      <td>Liquor Laws</td>\n",
       "      <td>Fountain Park</td>\n",
       "      <td>38.655254</td>\n",
       "      <td>-90.262784</td>\n",
       "      <td>Y</td>\n",
       "      <td>N</td>\n",
       "      <td>Fountain Park</td>\n",
       "      <td>1484</td>\n",
       "      <td>1.1</td>\n",
       "      <td>97.4</td>\n",
       "      <td>0.5</td>\n",
       "      <td>0.0</td>\n",
       "      <td>0.0</td>\n",
       "      <td>1.2</td>\n",
       "      <td>North</td>\n",
       "    </tr>\n",
       "    <tr>\n",
       "      <th>6</th>\n",
       "      <td>04/02/2008 17:00</td>\n",
       "      <td>1</td>\n",
       "      <td>Larceny-theft</td>\n",
       "      <td>Fountain Park</td>\n",
       "      <td>38.659898</td>\n",
       "      <td>-90.261975</td>\n",
       "      <td>Y</td>\n",
       "      <td>N</td>\n",
       "      <td>Fountain Park</td>\n",
       "      <td>1484</td>\n",
       "      <td>1.1</td>\n",
       "      <td>97.4</td>\n",
       "      <td>0.5</td>\n",
       "      <td>0.0</td>\n",
       "      <td>0.0</td>\n",
       "      <td>1.2</td>\n",
       "      <td>North</td>\n",
       "    </tr>\n",
       "    <tr>\n",
       "      <th>7</th>\n",
       "      <td>04/03/2008 17:18</td>\n",
       "      <td>1</td>\n",
       "      <td>Other</td>\n",
       "      <td>Fountain Park</td>\n",
       "      <td>38.653877</td>\n",
       "      <td>-90.262053</td>\n",
       "      <td>Y</td>\n",
       "      <td>N</td>\n",
       "      <td>Fountain Park</td>\n",
       "      <td>1484</td>\n",
       "      <td>1.1</td>\n",
       "      <td>97.4</td>\n",
       "      <td>0.5</td>\n",
       "      <td>0.0</td>\n",
       "      <td>0.0</td>\n",
       "      <td>1.2</td>\n",
       "      <td>North</td>\n",
       "    </tr>\n",
       "    <tr>\n",
       "      <th>10</th>\n",
       "      <td>04/04/2008 13:00</td>\n",
       "      <td>1</td>\n",
       "      <td>Motor vehicle theft</td>\n",
       "      <td>Fountain Park</td>\n",
       "      <td>38.659868</td>\n",
       "      <td>-90.256499</td>\n",
       "      <td>Y</td>\n",
       "      <td>N</td>\n",
       "      <td>Fountain Park</td>\n",
       "      <td>1484</td>\n",
       "      <td>1.1</td>\n",
       "      <td>97.4</td>\n",
       "      <td>0.5</td>\n",
       "      <td>0.0</td>\n",
       "      <td>0.0</td>\n",
       "      <td>1.2</td>\n",
       "      <td>North</td>\n",
       "    </tr>\n",
       "    <tr>\n",
       "      <th>11</th>\n",
       "      <td>04/05/2008 11:15</td>\n",
       "      <td>1</td>\n",
       "      <td>Aggravated Assault</td>\n",
       "      <td>Fountain Park</td>\n",
       "      <td>38.660401</td>\n",
       "      <td>-90.260948</td>\n",
       "      <td>Y</td>\n",
       "      <td>N</td>\n",
       "      <td>Fountain Park</td>\n",
       "      <td>1484</td>\n",
       "      <td>1.1</td>\n",
       "      <td>97.4</td>\n",
       "      <td>0.5</td>\n",
       "      <td>0.0</td>\n",
       "      <td>0.0</td>\n",
       "      <td>1.2</td>\n",
       "      <td>North</td>\n",
       "    </tr>\n",
       "  </tbody>\n",
       "</table>\n",
       "</div>"
      ],
      "text/plain": [
       "         DateOccured  Count             UCRCrime StandardNeighborhoodName  \\\n",
       "0   01/01/2000 20:58      1         Sex Offenses            Fountain Park   \n",
       "1   03/23/2008 17:00      1  Motor vehicle theft            Fountain Park   \n",
       "2   04/01/2008 00:01      1                Fraud            Fountain Park   \n",
       "3   04/01/2008 17:20      1        Larceny-theft            Fountain Park   \n",
       "4   04/01/2008 18:00      1        Larceny-theft            Fountain Park   \n",
       "5   04/01/2008 21:06      1          Liquor Laws            Fountain Park   \n",
       "6   04/02/2008 17:00      1        Larceny-theft            Fountain Park   \n",
       "7   04/03/2008 17:18      1                Other            Fountain Park   \n",
       "10  04/04/2008 13:00      1  Motor vehicle theft            Fountain Park   \n",
       "11  04/05/2008 11:15      1   Aggravated Assault            Fountain Park   \n",
       "\n",
       "     Latitude  Longitude FlagCrime FlagUnfounded   Neighborhood  Population  \\\n",
       "0   38.658845 -90.260116         Y             N  Fountain Park        1484   \n",
       "1   38.651938 -90.260857         Y             N  Fountain Park        1484   \n",
       "2   38.659750 -90.260558         Y             N  Fountain Park        1484   \n",
       "3   38.655478 -90.257060         Y             N  Fountain Park        1484   \n",
       "4   38.655254 -90.262784         Y             N  Fountain Park        1484   \n",
       "5   38.655254 -90.262784         Y             N  Fountain Park        1484   \n",
       "6   38.659898 -90.261975         Y             N  Fountain Park        1484   \n",
       "7   38.653877 -90.262053         Y             N  Fountain Park        1484   \n",
       "10  38.659868 -90.256499         Y             N  Fountain Park        1484   \n",
       "11  38.660401 -90.260948         Y             N  Fountain Park        1484   \n",
       "\n",
       "    White  Black  Hispanic/Latino2  AIAN1  Asian  Mixed Race Corridor  \n",
       "0     1.1   97.4               0.5    0.0    0.0         1.2    North  \n",
       "1     1.1   97.4               0.5    0.0    0.0         1.2    North  \n",
       "2     1.1   97.4               0.5    0.0    0.0         1.2    North  \n",
       "3     1.1   97.4               0.5    0.0    0.0         1.2    North  \n",
       "4     1.1   97.4               0.5    0.0    0.0         1.2    North  \n",
       "5     1.1   97.4               0.5    0.0    0.0         1.2    North  \n",
       "6     1.1   97.4               0.5    0.0    0.0         1.2    North  \n",
       "7     1.1   97.4               0.5    0.0    0.0         1.2    North  \n",
       "10    1.1   97.4               0.5    0.0    0.0         1.2    North  \n",
       "11    1.1   97.4               0.5    0.0    0.0         1.2    North  "
      ]
     },
     "execution_count": 171,
     "metadata": {},
     "output_type": "execute_result"
    }
   ],
   "source": [
    "no_negative_counts.head(10)"
   ]
  },
  {
   "cell_type": "markdown",
   "metadata": {},
   "source": [
    "Now remove any duplicate columns"
   ]
  },
  {
   "cell_type": "code",
   "execution_count": 214,
   "metadata": {},
   "outputs": [],
   "source": [
    "deduping_columns = ['DateOccured', 'UCRCrime', 'StandardNeighborhoodName',\n",
    "                    'Latitude', 'Longitude', 'White', 'Black', \n",
    "                    'Hispanic/Latino2', 'AIAN1', 'Asian', 'Mixed Race', 'Corridor']"
   ]
  },
  {
   "cell_type": "code",
   "execution_count": 215,
   "metadata": {},
   "outputs": [],
   "source": [
    "to_dedup_df = no_negative_counts[deduping_columns]"
   ]
  },
  {
   "cell_type": "code",
   "execution_count": 216,
   "metadata": {},
   "outputs": [],
   "source": [
    "mask = to_dedup_df.duplicated(keep=False)"
   ]
  },
  {
   "cell_type": "code",
   "execution_count": 217,
   "metadata": {},
   "outputs": [],
   "source": [
    "unique_crimes_df = to_dedup_df[~mask]"
   ]
  },
  {
   "cell_type": "code",
   "execution_count": 218,
   "metadata": {},
   "outputs": [
    {
     "data": {
      "text/plain": [
       "(336615, 12)"
      ]
     },
     "execution_count": 218,
     "metadata": {},
     "output_type": "execute_result"
    }
   ],
   "source": [
    "unique_crimes_df.shape"
   ]
  },
  {
   "cell_type": "code",
   "execution_count": 219,
   "metadata": {},
   "outputs": [
    {
     "data": {
      "text/html": [
       "<div>\n",
       "<style scoped>\n",
       "    .dataframe tbody tr th:only-of-type {\n",
       "        vertical-align: middle;\n",
       "    }\n",
       "\n",
       "    .dataframe tbody tr th {\n",
       "        vertical-align: top;\n",
       "    }\n",
       "\n",
       "    .dataframe thead th {\n",
       "        text-align: right;\n",
       "    }\n",
       "</style>\n",
       "<table border=\"1\" class=\"dataframe\">\n",
       "  <thead>\n",
       "    <tr style=\"text-align: right;\">\n",
       "      <th></th>\n",
       "      <th>DateOccured</th>\n",
       "      <th>UCRCrime</th>\n",
       "      <th>StandardNeighborhoodName</th>\n",
       "      <th>Latitude</th>\n",
       "      <th>Longitude</th>\n",
       "      <th>White</th>\n",
       "      <th>Black</th>\n",
       "      <th>Hispanic/Latino2</th>\n",
       "      <th>AIAN1</th>\n",
       "      <th>Asian</th>\n",
       "      <th>Mixed Race</th>\n",
       "      <th>Corridor</th>\n",
       "    </tr>\n",
       "  </thead>\n",
       "  <tbody>\n",
       "    <tr>\n",
       "      <th>0</th>\n",
       "      <td>01/01/2000 20:58</td>\n",
       "      <td>Sex Offenses</td>\n",
       "      <td>Fountain Park</td>\n",
       "      <td>38.658845</td>\n",
       "      <td>-90.260116</td>\n",
       "      <td>1.1</td>\n",
       "      <td>97.4</td>\n",
       "      <td>0.5</td>\n",
       "      <td>0.0</td>\n",
       "      <td>0.0</td>\n",
       "      <td>1.2</td>\n",
       "      <td>North</td>\n",
       "    </tr>\n",
       "    <tr>\n",
       "      <th>1</th>\n",
       "      <td>03/23/2008 17:00</td>\n",
       "      <td>Motor vehicle theft</td>\n",
       "      <td>Fountain Park</td>\n",
       "      <td>38.651938</td>\n",
       "      <td>-90.260857</td>\n",
       "      <td>1.1</td>\n",
       "      <td>97.4</td>\n",
       "      <td>0.5</td>\n",
       "      <td>0.0</td>\n",
       "      <td>0.0</td>\n",
       "      <td>1.2</td>\n",
       "      <td>North</td>\n",
       "    </tr>\n",
       "    <tr>\n",
       "      <th>2</th>\n",
       "      <td>04/01/2008 00:01</td>\n",
       "      <td>Fraud</td>\n",
       "      <td>Fountain Park</td>\n",
       "      <td>38.659750</td>\n",
       "      <td>-90.260558</td>\n",
       "      <td>1.1</td>\n",
       "      <td>97.4</td>\n",
       "      <td>0.5</td>\n",
       "      <td>0.0</td>\n",
       "      <td>0.0</td>\n",
       "      <td>1.2</td>\n",
       "      <td>North</td>\n",
       "    </tr>\n",
       "    <tr>\n",
       "      <th>3</th>\n",
       "      <td>04/01/2008 17:20</td>\n",
       "      <td>Larceny-theft</td>\n",
       "      <td>Fountain Park</td>\n",
       "      <td>38.655478</td>\n",
       "      <td>-90.257060</td>\n",
       "      <td>1.1</td>\n",
       "      <td>97.4</td>\n",
       "      <td>0.5</td>\n",
       "      <td>0.0</td>\n",
       "      <td>0.0</td>\n",
       "      <td>1.2</td>\n",
       "      <td>North</td>\n",
       "    </tr>\n",
       "    <tr>\n",
       "      <th>4</th>\n",
       "      <td>04/01/2008 18:00</td>\n",
       "      <td>Larceny-theft</td>\n",
       "      <td>Fountain Park</td>\n",
       "      <td>38.655254</td>\n",
       "      <td>-90.262784</td>\n",
       "      <td>1.1</td>\n",
       "      <td>97.4</td>\n",
       "      <td>0.5</td>\n",
       "      <td>0.0</td>\n",
       "      <td>0.0</td>\n",
       "      <td>1.2</td>\n",
       "      <td>North</td>\n",
       "    </tr>\n",
       "    <tr>\n",
       "      <th>5</th>\n",
       "      <td>04/01/2008 21:06</td>\n",
       "      <td>Liquor Laws</td>\n",
       "      <td>Fountain Park</td>\n",
       "      <td>38.655254</td>\n",
       "      <td>-90.262784</td>\n",
       "      <td>1.1</td>\n",
       "      <td>97.4</td>\n",
       "      <td>0.5</td>\n",
       "      <td>0.0</td>\n",
       "      <td>0.0</td>\n",
       "      <td>1.2</td>\n",
       "      <td>North</td>\n",
       "    </tr>\n",
       "    <tr>\n",
       "      <th>6</th>\n",
       "      <td>04/02/2008 17:00</td>\n",
       "      <td>Larceny-theft</td>\n",
       "      <td>Fountain Park</td>\n",
       "      <td>38.659898</td>\n",
       "      <td>-90.261975</td>\n",
       "      <td>1.1</td>\n",
       "      <td>97.4</td>\n",
       "      <td>0.5</td>\n",
       "      <td>0.0</td>\n",
       "      <td>0.0</td>\n",
       "      <td>1.2</td>\n",
       "      <td>North</td>\n",
       "    </tr>\n",
       "    <tr>\n",
       "      <th>7</th>\n",
       "      <td>04/03/2008 17:18</td>\n",
       "      <td>Other</td>\n",
       "      <td>Fountain Park</td>\n",
       "      <td>38.653877</td>\n",
       "      <td>-90.262053</td>\n",
       "      <td>1.1</td>\n",
       "      <td>97.4</td>\n",
       "      <td>0.5</td>\n",
       "      <td>0.0</td>\n",
       "      <td>0.0</td>\n",
       "      <td>1.2</td>\n",
       "      <td>North</td>\n",
       "    </tr>\n",
       "    <tr>\n",
       "      <th>10</th>\n",
       "      <td>04/04/2008 13:00</td>\n",
       "      <td>Motor vehicle theft</td>\n",
       "      <td>Fountain Park</td>\n",
       "      <td>38.659868</td>\n",
       "      <td>-90.256499</td>\n",
       "      <td>1.1</td>\n",
       "      <td>97.4</td>\n",
       "      <td>0.5</td>\n",
       "      <td>0.0</td>\n",
       "      <td>0.0</td>\n",
       "      <td>1.2</td>\n",
       "      <td>North</td>\n",
       "    </tr>\n",
       "    <tr>\n",
       "      <th>11</th>\n",
       "      <td>04/05/2008 11:15</td>\n",
       "      <td>Aggravated Assault</td>\n",
       "      <td>Fountain Park</td>\n",
       "      <td>38.660401</td>\n",
       "      <td>-90.260948</td>\n",
       "      <td>1.1</td>\n",
       "      <td>97.4</td>\n",
       "      <td>0.5</td>\n",
       "      <td>0.0</td>\n",
       "      <td>0.0</td>\n",
       "      <td>1.2</td>\n",
       "      <td>North</td>\n",
       "    </tr>\n",
       "  </tbody>\n",
       "</table>\n",
       "</div>"
      ],
      "text/plain": [
       "         DateOccured             UCRCrime StandardNeighborhoodName   Latitude  \\\n",
       "0   01/01/2000 20:58         Sex Offenses            Fountain Park  38.658845   \n",
       "1   03/23/2008 17:00  Motor vehicle theft            Fountain Park  38.651938   \n",
       "2   04/01/2008 00:01                Fraud            Fountain Park  38.659750   \n",
       "3   04/01/2008 17:20        Larceny-theft            Fountain Park  38.655478   \n",
       "4   04/01/2008 18:00        Larceny-theft            Fountain Park  38.655254   \n",
       "5   04/01/2008 21:06          Liquor Laws            Fountain Park  38.655254   \n",
       "6   04/02/2008 17:00        Larceny-theft            Fountain Park  38.659898   \n",
       "7   04/03/2008 17:18                Other            Fountain Park  38.653877   \n",
       "10  04/04/2008 13:00  Motor vehicle theft            Fountain Park  38.659868   \n",
       "11  04/05/2008 11:15   Aggravated Assault            Fountain Park  38.660401   \n",
       "\n",
       "    Longitude  White  Black  Hispanic/Latino2  AIAN1  Asian  Mixed Race  \\\n",
       "0  -90.260116    1.1   97.4               0.5    0.0    0.0         1.2   \n",
       "1  -90.260857    1.1   97.4               0.5    0.0    0.0         1.2   \n",
       "2  -90.260558    1.1   97.4               0.5    0.0    0.0         1.2   \n",
       "3  -90.257060    1.1   97.4               0.5    0.0    0.0         1.2   \n",
       "4  -90.262784    1.1   97.4               0.5    0.0    0.0         1.2   \n",
       "5  -90.262784    1.1   97.4               0.5    0.0    0.0         1.2   \n",
       "6  -90.261975    1.1   97.4               0.5    0.0    0.0         1.2   \n",
       "7  -90.262053    1.1   97.4               0.5    0.0    0.0         1.2   \n",
       "10 -90.256499    1.1   97.4               0.5    0.0    0.0         1.2   \n",
       "11 -90.260948    1.1   97.4               0.5    0.0    0.0         1.2   \n",
       "\n",
       "   Corridor  \n",
       "0     North  \n",
       "1     North  \n",
       "2     North  \n",
       "3     North  \n",
       "4     North  \n",
       "5     North  \n",
       "6     North  \n",
       "7     North  \n",
       "10    North  \n",
       "11    North  "
      ]
     },
     "execution_count": 219,
     "metadata": {},
     "output_type": "execute_result"
    }
   ],
   "source": [
    "unique_crimes_df.head(10)"
   ]
  },
  {
   "cell_type": "code",
   "execution_count": 220,
   "metadata": {},
   "outputs": [],
   "source": [
    "unique_crimes_df.to_csv('clean_data/unique_crimes.csv')"
   ]
  },
  {
   "cell_type": "markdown",
   "metadata": {},
   "source": [
    "### Now create some features to train on\n",
    "\n",
    "Such as...\n",
    "\n",
    "- year\n",
    "- month\n",
    "- day\n",
    "- time\n",
    "- ??"
   ]
  },
  {
   "cell_type": "code",
   "execution_count": 221,
   "metadata": {},
   "outputs": [],
   "source": [
    "from dateutil.parser import parse"
   ]
  },
  {
   "cell_type": "code",
   "execution_count": 222,
   "metadata": {},
   "outputs": [
    {
     "name": "stderr",
     "output_type": "stream",
     "text": [
      "/Users/k784648/miniconda3/envs/dataingestion/lib/python3.6/site-packages/ipykernel_launcher.py:1: SettingWithCopyWarning: \n",
      "A value is trying to be set on a copy of a slice from a DataFrame.\n",
      "Try using .loc[row_indexer,col_indexer] = value instead\n",
      "\n",
      "See the caveats in the documentation: http://pandas.pydata.org/pandas-docs/stable/indexing.html#indexing-view-versus-copy\n",
      "  \"\"\"Entry point for launching an IPython kernel.\n"
     ]
    }
   ],
   "source": [
    "unique_crimes_df['DateOccured'] = unique_crimes_df['DateOccured'].map(lambda x: parse(x))"
   ]
  },
  {
   "cell_type": "code",
   "execution_count": 223,
   "metadata": {},
   "outputs": [
    {
     "name": "stderr",
     "output_type": "stream",
     "text": [
      "/Users/k784648/miniconda3/envs/dataingestion/lib/python3.6/site-packages/ipykernel_launcher.py:1: SettingWithCopyWarning: \n",
      "A value is trying to be set on a copy of a slice from a DataFrame.\n",
      "Try using .loc[row_indexer,col_indexer] = value instead\n",
      "\n",
      "See the caveats in the documentation: http://pandas.pydata.org/pandas-docs/stable/indexing.html#indexing-view-versus-copy\n",
      "  \"\"\"Entry point for launching an IPython kernel.\n",
      "/Users/k784648/miniconda3/envs/dataingestion/lib/python3.6/site-packages/ipykernel_launcher.py:2: SettingWithCopyWarning: \n",
      "A value is trying to be set on a copy of a slice from a DataFrame.\n",
      "Try using .loc[row_indexer,col_indexer] = value instead\n",
      "\n",
      "See the caveats in the documentation: http://pandas.pydata.org/pandas-docs/stable/indexing.html#indexing-view-versus-copy\n",
      "  \n",
      "/Users/k784648/miniconda3/envs/dataingestion/lib/python3.6/site-packages/ipykernel_launcher.py:3: SettingWithCopyWarning: \n",
      "A value is trying to be set on a copy of a slice from a DataFrame.\n",
      "Try using .loc[row_indexer,col_indexer] = value instead\n",
      "\n",
      "See the caveats in the documentation: http://pandas.pydata.org/pandas-docs/stable/indexing.html#indexing-view-versus-copy\n",
      "  This is separate from the ipykernel package so we can avoid doing imports until\n",
      "/Users/k784648/miniconda3/envs/dataingestion/lib/python3.6/site-packages/ipykernel_launcher.py:4: SettingWithCopyWarning: \n",
      "A value is trying to be set on a copy of a slice from a DataFrame.\n",
      "Try using .loc[row_indexer,col_indexer] = value instead\n",
      "\n",
      "See the caveats in the documentation: http://pandas.pydata.org/pandas-docs/stable/indexing.html#indexing-view-versus-copy\n",
      "  after removing the cwd from sys.path.\n"
     ]
    }
   ],
   "source": [
    "unique_crimes_df['Year'] = unique_crimes_df['DateOccured'].map(lambda x: x.year)\n",
    "unique_crimes_df['Month'] = unique_crimes_df['DateOccured'].map(lambda x: x.month)\n",
    "unique_crimes_df['Day'] = unique_crimes_df['DateOccured'].map(lambda x: x.day)\n",
    "unique_crimes_df['Hour'] = unique_crimes_df['DateOccured'].map(lambda x: x.hour)"
   ]
  },
  {
   "cell_type": "markdown",
   "metadata": {},
   "source": [
    "Scale the population percentages to [0,1]"
   ]
  },
  {
   "cell_type": "code",
   "execution_count": 233,
   "metadata": {},
   "outputs": [
    {
     "name": "stderr",
     "output_type": "stream",
     "text": [
      "/Users/k784648/miniconda3/envs/dataingestion/lib/python3.6/site-packages/ipykernel_launcher.py:4: SettingWithCopyWarning: \n",
      "A value is trying to be set on a copy of a slice from a DataFrame.\n",
      "Try using .loc[row_indexer,col_indexer] = value instead\n",
      "\n",
      "See the caveats in the documentation: http://pandas.pydata.org/pandas-docs/stable/indexing.html#indexing-view-versus-copy\n",
      "  after removing the cwd from sys.path.\n"
     ]
    }
   ],
   "source": [
    "numeric_columns = ['White', 'Black', 'Hispanic/Latino2', 'AIAN1', 'Asian', 'Mixed Race']\n",
    "\n",
    "for column in numeric_columns:\n",
    "    unique_crimes_df[column] = unique_crimes_df[column].map(lambda x: x/100)"
   ]
  },
  {
   "cell_type": "code",
   "execution_count": 235,
   "metadata": {},
   "outputs": [],
   "source": [
    "test = unique_crimes_df['UCRCrime']"
   ]
  },
  {
   "cell_type": "code",
   "execution_count": 245,
   "metadata": {},
   "outputs": [],
   "source": [
    "from sklearn.preprocessing import LabelEncoder\n",
    "from sklearn.preprocessing import OneHotEncoder"
   ]
  },
  {
   "cell_type": "code",
   "execution_count": 246,
   "metadata": {},
   "outputs": [],
   "source": [
    "le = LabelEncoder()"
   ]
  },
  {
   "cell_type": "code",
   "execution_count": 249,
   "metadata": {},
   "outputs": [],
   "source": [
    "test_sparse = list(test)"
   ]
  },
  {
   "cell_type": "code",
   "execution_count": 255,
   "metadata": {},
   "outputs": [],
   "source": [
    "test_num = le.fit_transform(test_sparse)"
   ]
  },
  {
   "cell_type": "code",
   "execution_count": 257,
   "metadata": {},
   "outputs": [],
   "source": [
    "enc = OneHotEncoder()"
   ]
  },
  {
   "cell_type": "code",
   "execution_count": 261,
   "metadata": {},
   "outputs": [],
   "source": [
    "one_hot = enc.fit_transform(test_num.reshape(-1,1))"
   ]
  },
  {
   "cell_type": "code",
   "execution_count": 266,
   "metadata": {},
   "outputs": [
    {
     "data": {
      "text/plain": [
       "<336615x26 sparse matrix of type '<class 'numpy.float64'>'\n",
       "\twith 336615 stored elements in Compressed Sparse Row format>"
      ]
     },
     "execution_count": 266,
     "metadata": {},
     "output_type": "execute_result"
    }
   ],
   "source": [
    "one_hot"
   ]
  },
  {
   "cell_type": "code",
   "execution_count": 263,
   "metadata": {},
   "outputs": [
    {
     "data": {
      "text/plain": [
       "array(['Aggravated Assault', 'Arson', 'Burglary', 'Criminal Homicide',\n",
       "       'DUI', 'Disorderly Conduct', 'Drug Abuse Violations',\n",
       "       'Drunkenness', 'Embezzlement', 'Forcible Rape',\n",
       "       'Forgery and Counterfeiting', 'Fraud', 'Gambling', 'Larceny-theft',\n",
       "       'Liquor Laws', 'Motor vehicle theft',\n",
       "       'Offenses Against the Family and Children', 'Other',\n",
       "       'Other assaults', 'Prostitution and Commercialized Vice',\n",
       "       'Robbery', 'Sex Offenses', 'Stolen Property', 'Vagrancy',\n",
       "       'Vandalism', 'Weapons'], dtype='<U40')"
      ]
     },
     "execution_count": 263,
     "metadata": {},
     "output_type": "execute_result"
    }
   ],
   "source": []
  },
  {
   "cell_type": "code",
   "execution_count": null,
   "metadata": {},
   "outputs": [],
   "source": []
  }
 ],
 "metadata": {
  "kernelspec": {
   "display_name": "Python 3",
   "language": "python",
   "name": "python3"
  },
  "language_info": {
   "codemirror_mode": {
    "name": "ipython",
    "version": 3
   },
   "file_extension": ".py",
   "mimetype": "text/x-python",
   "name": "python",
   "nbconvert_exporter": "python",
   "pygments_lexer": "ipython3",
   "version": "3.6.4"
  }
 },
 "nbformat": 4,
 "nbformat_minor": 2
}
